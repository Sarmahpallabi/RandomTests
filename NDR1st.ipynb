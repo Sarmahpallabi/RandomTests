{
 "cells": [
  {
   "cell_type": "code",
   "execution_count": 29,
   "metadata": {},
   "outputs": [],
   "source": [
    "import PyPDF2"
   ]
  },
  {
   "cell_type": "code",
   "execution_count": 32,
   "metadata": {},
   "outputs": [],
   "source": [
    "NDR=open('C:\\\\Users\\\\pallabi.sarmah\\\\Documents\\\\DataScienceProject\\\\Data\\\\VM_E_TempNDR\\\\42_13-5\\\\42_13-_5_GEOL_GEOW_27984444.pdf', mode='rb')"
   ]
  },
  {
   "cell_type": "code",
   "execution_count": 33,
   "metadata": {},
   "outputs": [],
   "source": [
    "## Read the file\n",
    "pdfReader=PyPDF2.PdfFileReader(NDR)"
   ]
  },
  {
   "cell_type": "code",
   "execution_count": 13,
   "metadata": {},
   "outputs": [
    {
     "data": {
      "text/plain": [
       "112"
      ]
     },
     "execution_count": 13,
     "metadata": {},
     "output_type": "execute_result"
    }
   ],
   "source": [
    "## To see the contenthow many pages are there\n",
    "\n",
    "pdfReader.numPages\n"
   ]
  },
  {
   "cell_type": "code",
   "execution_count": 20,
   "metadata": {},
   "outputs": [
    {
     "data": {
      "text/plain": [
       "'    \\n \\n \\n \\n \\n  Client \\n\\n  Sterling Resources  \\n\\n Date \\n  July 2009 \\nReport Author(s) \\n \\n \\n Darren McRae \\nDerek Littlejohn \\nTim Trimble \\n\\n Technical Reviewer \\n \\n Pete Kane    \\n \\n \\n \\n \\n \\n \\n \\n \\n \\n  BREAGH 42/13-5 (PILOT) \\nAND 42/13-5Z \\n\\n(SIDETRACK) \\n Subsurface Evaluation Report     Project Code: \\n X08STR042B \\n    Status: \\nFinal '"
      ]
     },
     "execution_count": 20,
     "metadata": {},
     "output_type": "execute_result"
    }
   ],
   "source": [
    "# To read page 1 \n",
    "\n",
    "page_one=pdfReader.getPage(0)\n",
    "\n",
    "page_one.extractText()"
   ]
  },
  {
   "cell_type": "code",
   "execution_count": 21,
   "metadata": {},
   "outputs": [
    {
     "name": "stdout",
     "output_type": "stream",
     "text": [
      "    \n",
      " \n",
      " \n",
      " \n",
      " \n",
      "  Client \n",
      "\n",
      "  Sterling Resources  \n",
      "\n",
      " Date \n",
      "  July 2009 \n",
      "Report Author(s) \n",
      " \n",
      " \n",
      " Darren McRae \n",
      "Derek Littlejohn \n",
      "Tim Trimble \n",
      "\n",
      " Technical Reviewer \n",
      " \n",
      " Pete Kane    \n",
      " \n",
      " \n",
      " \n",
      " \n",
      " \n",
      " \n",
      " \n",
      " \n",
      " \n",
      "  BREAGH 42/13-5 (PILOT) \n",
      "AND 42/13-5Z \n",
      "\n",
      "(SIDETRACK) \n",
      " Subsurface Evaluation Report     Project Code: \n",
      " X08STR042B \n",
      "    Status: \n",
      "Final \n"
     ]
    }
   ],
   "source": [
    "print(page_one.extractText())"
   ]
  },
  {
   "cell_type": "code",
   "execution_count": 22,
   "metadata": {},
   "outputs": [
    {
     "data": {
      "text/plain": [
       "'     5   Sterling Resources\\n Executive Summary \\nWell Objectives \\nThe 42/13-5 (pilot) and 42/13-5Z (sidetrack) wells \\nare located approximately 55 km NW of the \\nRavenspurn gas field and approximately 100 km \\nESE of the Teeside Gas Terminal. The 42/13-5 \\n(pilot) well was designed to target reservoir sand\\ns approximately 500 m SE of the 42/13-3 well to help \\nlocate the horizontal section of the 42/13-5Z (s\\nidetrack) for optimal sand penetration. The primary \\nobjective of the 42/13-5Z well was to establish a maximum flow rate in the Carboniferous reservoir \\nfrom a horizontal well. \\n\\n \\nThe 42/13-5 pilot hole was drilled on a turnkey co\\nntract by ADTI to a depth of 7497 ft TVDss. However the reservoir section of the 42/13-5Z well wa\\ns drilled on day rate from\\n the kick off point to \\nTD.  \\n \\nOnly an LWD logging service was conducted for \\nboth the pilot hole and sidetrack because of the \\nplanned high angle of the wells (>70\\no) in the 8 ½ﬂ sections. Owing \\nto potential borehole instability \\nwithin the reservoir section, due to the presence \\nof thin coal beds, a limited formation evaluation \\nprogramme was planned consisting of only an azimut\\nhal gamma ray, azimuthal resistivity (42/13-5Z \\nonly) and a sonic log. \\nWell Results Shortly after spudding in the Chalk, difficulty ke\\neping to the planned trajectory was experienced, due \\nto a combination of cement blocks falling in on top \\nof the B.H.A., the B.H.A. design, particularly the \\nuse of two hole openers, the use of a drilling templa\\nte and firm formation. The section was finished \\nusing a plain rotary assembly which drilled without problems. \\n \\nThe majority of the formation tops were within 30 \\nft of prognosis and none of the tops penetrated were \\noutside the anticipated error margin prescribed. The most significant departure from prognosis was \\n\\nthe Basalanhydrit which was enco\\nuntered 151 ft deeper than expected.  \\n The 42/13-5 (pilot) penetrated the Top Carboniferous 18 ft deep to prognosis at 7247 ft (TVDss), the \\n\\n42/13-5Z (sidetrack) encountered the \\nTop Carboniferous at 7245 ft (TVDss). \\n Significant problems were encountered while attempting to sidetrack the 42/13-5 well because the \\nWerraanhydrit was harder than the cement with t\\nhe result that the B.H.\\nA. drilled the cement \\npreferentially to the formation. The problem was finally solved by changing out \\nthe B.H.A. to a rotary \\nsteerable assembly. The 42/13-5Z \\nwell was finally sidetracked on 28\\nth December 2008 with a kick off \\ndepth of 7925 ft MDbrt (7165 ft TVDss) recorded at the wellsite \\n\\n The sonic tool failed to record data in 42/13-5 and had to be re-run. The tool also failed to record \\nsensible data in 42/13-5Z however this fact wa\\ns not realised until after the hole had been cased and \\nthe chance to rerun the tool was lost. \\n The 42/13-5Z penetrated a total of 1186 ft (along hole) of gas bearing sand and a maximum rate of \\n25.8 mmscf/d was achieved over a 1466 ft total perforation interval on an 80/64ﬂ choke.\\n  Overall the drilling of the horizontal\\n section is considered to be a \\nmajor success in terms of both \\nreservoir sand penetration and drilling parameters. \\nEarly fears of wellbore stability due to coal \\nformations and the relatively long reservoir se\\nction were allayed as no drilling issues were \\nencountered. \\n \\n \\n '"
      ]
     },
     "execution_count": 22,
     "metadata": {},
     "output_type": "execute_result"
    }
   ],
   "source": [
    "# To read page 5\n",
    "\n",
    "page_Five=pdfReader.getPage(4)\n",
    "\n",
    "page_Five.extractText()"
   ]
  },
  {
   "cell_type": "code",
   "execution_count": 23,
   "metadata": {},
   "outputs": [
    {
     "name": "stdout",
     "output_type": "stream",
     "text": [
      "     5   Sterling Resources\n",
      " Executive Summary \n",
      "Well Objectives \n",
      "The 42/13-5 (pilot) and 42/13-5Z (sidetrack) wells \n",
      "are located approximately 55 km NW of the \n",
      "Ravenspurn gas field and approximately 100 km \n",
      "ESE of the Teeside Gas Terminal. The 42/13-5 \n",
      "(pilot) well was designed to target reservoir sand\n",
      "s approximately 500 m SE of the 42/13-3 well to help \n",
      "locate the horizontal section of the 42/13-5Z (s\n",
      "idetrack) for optimal sand penetration. The primary \n",
      "objective of the 42/13-5Z well was to establish a maximum flow rate in the Carboniferous reservoir \n",
      "from a horizontal well. \n",
      "\n",
      " \n",
      "The 42/13-5 pilot hole was drilled on a turnkey co\n",
      "ntract by ADTI to a depth of 7497 ft TVDss. However the reservoir section of the 42/13-5Z well wa\n",
      "s drilled on day rate from\n",
      " the kick off point to \n",
      "TD.  \n",
      " \n",
      "Only an LWD logging service was conducted for \n",
      "both the pilot hole and sidetrack because of the \n",
      "planned high angle of the wells (>70\n",
      "o) in the 8 ½ﬂ sections. Owing \n",
      "to potential borehole instability \n",
      "within the reservoir section, due to the presence \n",
      "of thin coal beds, a limited formation evaluation \n",
      "programme was planned consisting of only an azimut\n",
      "hal gamma ray, azimuthal resistivity (42/13-5Z \n",
      "only) and a sonic log. \n",
      "Well Results Shortly after spudding in the Chalk, difficulty ke\n",
      "eping to the planned trajectory was experienced, due \n",
      "to a combination of cement blocks falling in on top \n",
      "of the B.H.A., the B.H.A. design, particularly the \n",
      "use of two hole openers, the use of a drilling templa\n",
      "te and firm formation. The section was finished \n",
      "using a plain rotary assembly which drilled without problems. \n",
      " \n",
      "The majority of the formation tops were within 30 \n",
      "ft of prognosis and none of the tops penetrated were \n",
      "outside the anticipated error margin prescribed. The most significant departure from prognosis was \n",
      "\n",
      "the Basalanhydrit which was enco\n",
      "untered 151 ft deeper than expected.  \n",
      " The 42/13-5 (pilot) penetrated the Top Carboniferous 18 ft deep to prognosis at 7247 ft (TVDss), the \n",
      "\n",
      "42/13-5Z (sidetrack) encountered the \n",
      "Top Carboniferous at 7245 ft (TVDss). \n",
      " Significant problems were encountered while attempting to sidetrack the 42/13-5 well because the \n",
      "Werraanhydrit was harder than the cement with t\n",
      "he result that the B.H.\n",
      "A. drilled the cement \n",
      "preferentially to the formation. The problem was finally solved by changing out \n",
      "the B.H.A. to a rotary \n",
      "steerable assembly. The 42/13-5Z \n",
      "well was finally sidetracked on 28\n",
      "th December 2008 with a kick off \n",
      "depth of 7925 ft MDbrt (7165 ft TVDss) recorded at the wellsite \n",
      "\n",
      " The sonic tool failed to record data in 42/13-5 and had to be re-run. The tool also failed to record \n",
      "sensible data in 42/13-5Z however this fact wa\n",
      "s not realised until after the hole had been cased and \n",
      "the chance to rerun the tool was lost. \n",
      " The 42/13-5Z penetrated a total of 1186 ft (along hole) of gas bearing sand and a maximum rate of \n",
      "25.8 mmscf/d was achieved over a 1466 ft total perforation interval on an 80/64ﬂ choke.\n",
      "  Overall the drilling of the horizontal\n",
      " section is considered to be a \n",
      "major success in terms of both \n",
      "reservoir sand penetration and drilling parameters. \n",
      "Early fears of wellbore stability due to coal \n",
      "formations and the relatively long reservoir se\n",
      "ction were allayed as no drilling issues were \n",
      "encountered. \n",
      " \n",
      " \n",
      " \n"
     ]
    }
   ],
   "source": [
    "print(page_Five.extractText())"
   ]
  },
  {
   "cell_type": "code",
   "execution_count": 24,
   "metadata": {},
   "outputs": [
    {
     "data": {
      "text/plain": [
       "'3SoundTrak Simplified OperationSound Source ﬁfiresﬂ emitting acoustic wave into formation\\nWaves generated travel through formation\\nReceivers measure arrival and travel time of different waves\\nCompressional data transmitted in real time\\nCompressional and Shear data stored to memory\\nReal time log dependent on tool set up matching predetermined  \\nformation properties. Final log obtained by analysis of memory data and subsequent \\n\\nrefinement of tool responses'"
      ]
     },
     "execution_count": 24,
     "metadata": {},
     "output_type": "execute_result"
    }
   ],
   "source": [
    "# To read page 77\n",
    "\n",
    "page_SevenSeven=pdfReader.getPage(76)\n",
    "\n",
    "page_SevenSeven.extractText()"
   ]
  },
  {
   "cell_type": "code",
   "execution_count": 25,
   "metadata": {},
   "outputs": [
    {
     "name": "stdout",
     "output_type": "stream",
     "text": [
      "3SoundTrak Simplified OperationSound Source ﬁfiresﬂ emitting acoustic wave into formation\n",
      "Waves generated travel through formation\n",
      "Receivers measure arrival and travel time of different waves\n",
      "Compressional data transmitted in real time\n",
      "Compressional and Shear data stored to memory\n",
      "Real time log dependent on tool set up matching predetermined  \n",
      "formation properties. Final log obtained by analysis of memory data and subsequent \n",
      "\n",
      "refinement of tool responses\n"
     ]
    }
   ],
   "source": [
    "print(page_SevenSeven.extractText())"
   ]
  },
  {
   "cell_type": "code",
   "execution_count": 26,
   "metadata": {},
   "outputs": [
    {
     "data": {
      "text/plain": [
       "'CORRELATIONROPft/hr 100 0Gamma RayAPI 0 150RESISTIVITYResistivity Phase 2MHzohm.m 0.2 2000Resistivity Phase 400kHzohm.m 0.2 2000Resistivity Attenuated 2MHzohm.m 0.2 2000Resistivity Attenuated 400kHzohm.m 0.2 2000SONICGAS% 0 5DESCRIPTIONMEMBERFORMATIONGROUPSYSTEMLATE PERMIANLATE PERMIANS  CARBONIFEROUS \\n CARBONIFEROUS  ZECHSTEIN (Z1) \\n ZECHSTEIN (Z1)  FARNE GROUP \\n FARNE GROUP WERRAANHYDRIT\\nWERRAANHYDRITZECHSTEINKALK\\nZECHSTEINKALKNE  MIDDLE LIMESTONE \\n MIDDLE LIMESTONE UPPER SANDSTONE\\nUPPER SANDSTONEKUPFERSCHEIFER\\n\\nKUPFERSCHEIFER\\n  W:  V:  F:  O/W:  Sol:10.551\\n3.0\\n75/25\\n16ZechsteinkalkMDBRTTVDSS\\n8080.0 Ft.-7217.6 Ft.\\nKupferscheiferMDBRTTVDSS\\n8174.0 Ft.-7243.6 Ft.\\nMiddle LimestoneMDBRTTVDSS\\n8178.0 Ft.-7244.6 Ft.\\nLIMESTONE: light to medium grey, brownish,\\nsome white mottling, soft to firm, locally\\nmoderately hard, \\nmicrocrystalli\\nne, moderately\\nargillaceous, dolomitic \\nin part. Interbedded with\\nANHYDRITE.42/13-5Z sidetrack kick-off on 27thDecember 2008 at 7925ft MDRT (-7165ftTVDSS) from 42/13-5DSTInterval 8166.19 - 10131.63ft MDBRTRate: 25.8 mmscf/d 80/64\" chokePerforations8166.19 - 8351.67ft MDBRTCLAYSTONE: red brown, soft to firm, anhydritic, from 8200ft:\\nmedium to dark grey, firm, blocky to subfissile, non calcareous,\\nsilty, very carbonaceous, pyritic.SANDSTONE: off white to cream, generally soft\\n(rock flour), some friable, clear to translucent\\nquartz, very fine to fine grained, subrounded,\\nmoderately sorted, silty matrix, slight dolomitic.CLAYSTONE: medium grey, soft to firm, swelling,\\nblocky to subfissile, non calcareous,\\nmicromicaceous, very silty in part grading\\nSILTSTONE, rare pyrite.CLAYSTONE: medium to dark grey, firm, blocky to\\nsubfissile, non calcareous, silty in part, slight\\nmicromicaceous, carbonaceous specks, trace\\npyrite, common COAL.SANDSTONE: cream, predominantly soft rock\\nflour, some firm to friable, clear to translucent\\nquartz, very fine to fine some medium grained,\\nsubrounded, moderate to well sorted, generally\\nclean, trace coaly fragments, slight dolomitic.Perforations8500.02 - 8761.94ft MDBRT13Run #:70.03144.1Inc:7902.6 Ft.Azi:TVD:7301.91MD:68.94148.2Inc:8001.0 Ft.Azi:TVD:7331.99MD:73.14147.3Inc:8102.0 Ft.Azi:TVD:7364.80MD:76.48146.0Inc:8193.0 Ft.Azi:TVD:7388.64MD:80.78144.5Inc:8288.0 Ft.Azi:TVD:7407.36MD:84.81144.1Inc:8385.0 Ft.Azi:TVD:7419.53MD:86.94144.0Inc:8460.0 Ft.Azi:TVD:7424.92MD:28/12/0829/12/0827/12/08Hycalog RSX713M, 8 1/2\" PDC bit7900800081008200830084008500'"
      ]
     },
     "execution_count": 26,
     "metadata": {},
     "output_type": "execute_result"
    }
   ],
   "source": [
    "# To read page 70\n",
    "\n",
    "page_SevenZero=pdfReader.getPage(69)\n",
    "\n",
    "page_SevenZero.extractText()"
   ]
  },
  {
   "cell_type": "code",
   "execution_count": 27,
   "metadata": {},
   "outputs": [
    {
     "name": "stdout",
     "output_type": "stream",
     "text": [
      "CORRELATIONROPft/hr 100 0Gamma RayAPI 0 150RESISTIVITYResistivity Phase 2MHzohm.m 0.2 2000Resistivity Phase 400kHzohm.m 0.2 2000Resistivity Attenuated 2MHzohm.m 0.2 2000Resistivity Attenuated 400kHzohm.m 0.2 2000SONICGAS% 0 5DESCRIPTIONMEMBERFORMATIONGROUPSYSTEMLATE PERMIANLATE PERMIANS  CARBONIFEROUS \n",
      " CARBONIFEROUS  ZECHSTEIN (Z1) \n",
      " ZECHSTEIN (Z1)  FARNE GROUP \n",
      " FARNE GROUP WERRAANHYDRIT\n",
      "WERRAANHYDRITZECHSTEINKALK\n",
      "ZECHSTEINKALKNE  MIDDLE LIMESTONE \n",
      " MIDDLE LIMESTONE UPPER SANDSTONE\n",
      "UPPER SANDSTONEKUPFERSCHEIFER\n",
      "\n",
      "KUPFERSCHEIFER\n",
      "  W:  V:  F:  O/W:  Sol:10.551\n",
      "3.0\n",
      "75/25\n",
      "16ZechsteinkalkMDBRTTVDSS\n",
      "8080.0 Ft.-7217.6 Ft.\n",
      "KupferscheiferMDBRTTVDSS\n",
      "8174.0 Ft.-7243.6 Ft.\n",
      "Middle LimestoneMDBRTTVDSS\n",
      "8178.0 Ft.-7244.6 Ft.\n",
      "LIMESTONE: light to medium grey, brownish,\n",
      "some white mottling, soft to firm, locally\n",
      "moderately hard, \n",
      "microcrystalli\n",
      "ne, moderately\n",
      "argillaceous, dolomitic \n",
      "in part. Interbedded with\n",
      "ANHYDRITE.42/13-5Z sidetrack kick-off on 27thDecember 2008 at 7925ft MDRT (-7165ftTVDSS) from 42/13-5DSTInterval 8166.19 - 10131.63ft MDBRTRate: 25.8 mmscf/d 80/64\" chokePerforations8166.19 - 8351.67ft MDBRTCLAYSTONE: red brown, soft to firm, anhydritic, from 8200ft:\n",
      "medium to dark grey, firm, blocky to subfissile, non calcareous,\n",
      "silty, very carbonaceous, pyritic.SANDSTONE: off white to cream, generally soft\n",
      "(rock flour), some friable, clear to translucent\n",
      "quartz, very fine to fine grained, subrounded,\n",
      "moderately sorted, silty matrix, slight dolomitic.CLAYSTONE: medium grey, soft to firm, swelling,\n",
      "blocky to subfissile, non calcareous,\n",
      "micromicaceous, very silty in part grading\n",
      "SILTSTONE, rare pyrite.CLAYSTONE: medium to dark grey, firm, blocky to\n",
      "subfissile, non calcareous, silty in part, slight\n",
      "micromicaceous, carbonaceous specks, trace\n",
      "pyrite, common COAL.SANDSTONE: cream, predominantly soft rock\n",
      "flour, some firm to friable, clear to translucent\n",
      "quartz, very fine to fine some medium grained,\n",
      "subrounded, moderate to well sorted, generally\n",
      "clean, trace coaly fragments, slight dolomitic.Perforations8500.02 - 8761.94ft MDBRT13Run #:70.03144.1Inc:7902.6 Ft.Azi:TVD:7301.91MD:68.94148.2Inc:8001.0 Ft.Azi:TVD:7331.99MD:73.14147.3Inc:8102.0 Ft.Azi:TVD:7364.80MD:76.48146.0Inc:8193.0 Ft.Azi:TVD:7388.64MD:80.78144.5Inc:8288.0 Ft.Azi:TVD:7407.36MD:84.81144.1Inc:8385.0 Ft.Azi:TVD:7419.53MD:86.94144.0Inc:8460.0 Ft.Azi:TVD:7424.92MD:28/12/0829/12/0827/12/08Hycalog RSX713M, 8 1/2\" PDC bit7900800081008200830084008500\n"
     ]
    }
   ],
   "source": [
    "print(page_SevenZero.extractText())"
   ]
  },
  {
   "cell_type": "code",
   "execution_count": 28,
   "metadata": {},
   "outputs": [],
   "source": [
    "# Close the file after readinng \n",
    "\n",
    "NDR.close()"
   ]
  },
  {
   "cell_type": "code",
   "execution_count": 42,
   "metadata": {},
   "outputs": [
    {
     "ename": "AttributeError",
     "evalue": "'PageObject' object has no attribute 'extractTables'",
     "output_type": "error",
     "traceback": [
      "\u001b[1;31m---------------------------------------------------------------------------\u001b[0m",
      "\u001b[1;31mAttributeError\u001b[0m                            Traceback (most recent call last)",
      "\u001b[1;32m<ipython-input-42-071b6841f5e4>\u001b[0m in \u001b[0;36m<module>\u001b[1;34m\u001b[0m\n\u001b[0;32m      1\u001b[0m \u001b[0mpageTables\u001b[0m\u001b[1;33m=\u001b[0m\u001b[0mpdfReader\u001b[0m\u001b[1;33m.\u001b[0m\u001b[0mgetPage\u001b[0m\u001b[1;33m(\u001b[0m\u001b[1;36m24\u001b[0m\u001b[1;33m)\u001b[0m\u001b[1;33m\u001b[0m\u001b[1;33m\u001b[0m\u001b[0m\n\u001b[0;32m      2\u001b[0m \u001b[1;33m\u001b[0m\u001b[0m\n\u001b[1;32m----> 3\u001b[1;33m \u001b[0mpageTables\u001b[0m\u001b[1;33m.\u001b[0m\u001b[0mextractTables\u001b[0m\u001b[1;33m(\u001b[0m\u001b[1;33m)\u001b[0m\u001b[1;33m\u001b[0m\u001b[1;33m\u001b[0m\u001b[0m\n\u001b[0m",
      "\u001b[1;31mAttributeError\u001b[0m: 'PageObject' object has no attribute 'extractTables'"
     ]
    }
   ],
   "source": [
    "pageTables=pdfReader.getPage(24)\n",
    "\n",
    "pageTables.extractTables()"
   ]
  },
  {
   "cell_type": "code",
   "execution_count": 43,
   "metadata": {},
   "outputs": [],
   "source": [
    "import os"
   ]
  },
  {
   "cell_type": "code",
   "execution_count": 44,
   "metadata": {},
   "outputs": [],
   "source": [
    "path = \"C:\\\\Users\\pallabi.sarmah\\\\Documents\\\\DataScienceProject\\Data\\\\VM_E_TempNDR\\\\42_13-5\\\\allPDFs\""
   ]
  },
  {
   "cell_type": "code",
   "execution_count": 47,
   "metadata": {},
   "outputs": [
    {
     "ename": "FileNotFoundError",
     "evalue": "[WinError 3] The system cannot find the path specified: 'C:\\\\Users\\\\pallabi.sarmah\\\\Documents\\\\DataScienceProject\\\\Data\\\\VM_E_TempNDR\\\\42_13-5\\\\allPDFs'",
     "output_type": "error",
     "traceback": [
      "\u001b[1;31m---------------------------------------------------------------------------\u001b[0m",
      "\u001b[1;31mFileNotFoundError\u001b[0m                         Traceback (most recent call last)",
      "\u001b[1;32m<ipython-input-47-13dc81a886d6>\u001b[0m in \u001b[0;36m<module>\u001b[1;34m\u001b[0m\n\u001b[0;32m      4\u001b[0m \u001b[0mpage\u001b[0m\u001b[1;33m=\u001b[0m\u001b[1;36m24\u001b[0m\u001b[1;33m\u001b[0m\u001b[1;33m\u001b[0m\u001b[0m\n\u001b[0;32m      5\u001b[0m \u001b[0mwriter\u001b[0m \u001b[1;33m=\u001b[0m \u001b[0mPyPDF2\u001b[0m\u001b[1;33m.\u001b[0m\u001b[0mPdfFileWriter\u001b[0m\u001b[1;33m(\u001b[0m\u001b[1;33m)\u001b[0m \u001b[1;31m#create PdfFileWriter object\u001b[0m\u001b[1;33m\u001b[0m\u001b[1;33m\u001b[0m\u001b[0m\n\u001b[1;32m----> 6\u001b[1;33m \u001b[1;32mfor\u001b[0m \u001b[0mpdf\u001b[0m \u001b[1;32min\u001b[0m \u001b[0mos\u001b[0m\u001b[1;33m.\u001b[0m\u001b[0mlistdir\u001b[0m\u001b[1;33m(\u001b[0m\u001b[0mpath\u001b[0m\u001b[1;33m)\u001b[0m\u001b[1;33m:\u001b[0m\u001b[1;33m\u001b[0m\u001b[1;33m\u001b[0m\u001b[0m\n\u001b[0m\u001b[0;32m      7\u001b[0m     \u001b[0mPDFfilename\u001b[0m \u001b[1;33m=\u001b[0m \u001b[0mpath\u001b[0m \u001b[1;33m+\u001b[0m \u001b[1;34m\"/\"\u001b[0m \u001b[1;33m+\u001b[0m \u001b[0mpdf\u001b[0m\u001b[1;33m\u001b[0m\u001b[1;33m\u001b[0m\u001b[0m\n\u001b[0;32m      8\u001b[0m     \u001b[0mpfr\u001b[0m \u001b[1;33m=\u001b[0m \u001b[0mPyPDF2\u001b[0m\u001b[1;33m.\u001b[0m\u001b[0mPdfFileReader\u001b[0m\u001b[1;33m(\u001b[0m\u001b[0mopen\u001b[0m\u001b[1;33m(\u001b[0m\u001b[0mPDFfilename\u001b[0m\u001b[1;33m,\u001b[0m \u001b[1;34m\"rb\"\u001b[0m\u001b[1;33m)\u001b[0m\u001b[1;33m)\u001b[0m \u001b[1;31m#PdfFileReader object\u001b[0m\u001b[1;33m\u001b[0m\u001b[1;33m\u001b[0m\u001b[0m\n",
      "\u001b[1;31mFileNotFoundError\u001b[0m: [WinError 3] The system cannot find the path specified: 'C:\\\\Users\\\\pallabi.sarmah\\\\Documents\\\\DataScienceProject\\\\Data\\\\VM_E_TempNDR\\\\42_13-5\\\\allPDFs'"
     ]
    }
   ],
   "source": [
    "import os\n",
    "path = \"C:\\\\Users\\pallabi.sarmah\\\\Documents\\\\DataScienceProject\\Data\\\\VM_E_TempNDR\\\\42_13-5\\\\allPDFs\"\n",
    "## #page number to extract, added 1 to reflect counting starting at 0\n",
    "page=24\n",
    "writer = PyPDF2.PdfFileWriter() #create PdfFileWriter object\n",
    "for pdf in os.listdir(path):\n",
    "    PDFfilename = path + \"/\" + pdf\n",
    "    pfr = PyPDF2.PdfFileReader(open(PDFfilename, \"rb\")) #PdfFileReader object\n",
    "    pg23 = pfr.getPage(page) #extract pg 23\n",
    "    writer.addPage(pg23) #add pg 23\n",
    "    \n",
    "NewPDFfilename = \"allTables.pdf\" #filename of your PDF/directory where you want your new PDF to be\n",
    "with open(NewPDFfilename, \"wb\") as outputStream: #create new PDF\n",
    "    writer.write(outputStream) #write pages to new PDF\n",
    "    "
   ]
  },
  {
   "cell_type": "code",
   "execution_count": 48,
   "metadata": {},
   "outputs": [],
   "source": [
    "import os\n",
    "path = \"C:\\\\Users\\pallabi.sarmah\\\\Documents\\\\DataScienceProject\\Data\\\\VM_E_TempNDR\\\\42_13-5\\\\allPDFs\""
   ]
  },
  {
   "cell_type": "code",
   "execution_count": 62,
   "metadata": {},
   "outputs": [],
   "source": [
    "page=24\n",
    "writer = PyPDF2.PdfFileWriter()\n",
    "pdf_reader=PyPDF2.PdfFileReader(open('C:\\\\Users\\pallabi.sarmah\\\\Documents\\\\DataScienceProject\\Data\\\\VM_E_TempNDR\\\\42_13-5\\\\42_13-_5_GEOL_GEOW_27984444.pdf', 'rb'))\n",
    "\n"
   ]
  },
  {
   "cell_type": "code",
   "execution_count": 63,
   "metadata": {},
   "outputs": [],
   "source": [
    "pg24 = pdf_reader.getPage(23)\n"
   ]
  },
  {
   "cell_type": "code",
   "execution_count": 65,
   "metadata": {},
   "outputs": [],
   "source": [
    "writer.addPage(pg24)"
   ]
  },
  {
   "cell_type": "code",
   "execution_count": 66,
   "metadata": {},
   "outputs": [],
   "source": [
    "NewPDFfilename = \"allTables.pdf\" "
   ]
  },
  {
   "cell_type": "code",
   "execution_count": 67,
   "metadata": {},
   "outputs": [],
   "source": [
    "with open(NewPDFfilename, \"wb\") as outputStream:\n",
    "    writer.write(outputStream)\n",
    "    "
   ]
  },
  {
   "cell_type": "code",
   "execution_count": 68,
   "metadata": {},
   "outputs": [],
   "source": [
    "import requests \n"
   ]
  },
  {
   "cell_type": "code",
   "execution_count": 74,
   "metadata": {},
   "outputs": [],
   "source": [
    "def pdfToTable(PDFfilename, apiKey, fileExt, downloadDir):\n",
    "    PDFfilename = 'NewPDFfilename'\n",
    "    fileData = (PDFfilename, open(PDFfilename, 'rb'))"
   ]
  },
  {
   "cell_type": "code",
   "execution_count": 85,
   "metadata": {},
   "outputs": [],
   "source": [
    "fileData = (NewPDFfilename, open(NewPDFfilename, 'rb')) \n",
    "files = {'f': fileData} \n",
    "\n",
    "apiKey = \"znu2s80zgkk7\" \n",
    "\n",
    "fileExt = \"csv\""
   ]
  },
  {
   "cell_type": "code",
   "execution_count": 86,
   "metadata": {},
   "outputs": [],
   "source": [
    "postUrl = \"https://pdftables.com/api?key={0}&format={1}\".format(apiKey, fileExt)"
   ]
  },
  {
   "cell_type": "code",
   "execution_count": 87,
   "metadata": {},
   "outputs": [],
   "source": [
    "#the .format puts value of apiKey where {0} is, etc\n",
    "\n",
    "response = requests.post(postUrl, files=files)\n",
    "\n"
   ]
  },
  {
   "cell_type": "code",
   "execution_count": 88,
   "metadata": {},
   "outputs": [],
   "source": [
    "downloadDir = \"C:\\\\Users\\\\pallabi.sarmah\\\\Documents\\\\DataScienceProject\\\\Data\\\\VM_E_TempNDR\\\\Table.csv\""
   ]
  },
  {
   "cell_type": "code",
   "execution_count": 89,
   "metadata": {},
   "outputs": [
    {
     "ename": "PermissionError",
     "evalue": "[Errno 13] Permission denied: 'C:\\\\Users\\\\pallabi.sarmah\\\\Documents\\\\DataScienceProject\\\\Data\\\\VM_E_TempNDR\\\\Table.csv'",
     "output_type": "error",
     "traceback": [
      "\u001b[1;31m---------------------------------------------------------------------------\u001b[0m",
      "\u001b[1;31mPermissionError\u001b[0m                           Traceback (most recent call last)",
      "\u001b[1;32m<ipython-input-89-462ccf18e556>\u001b[0m in \u001b[0;36m<module>\u001b[1;34m\u001b[0m\n\u001b[1;32m----> 1\u001b[1;33m \u001b[1;32mwith\u001b[0m \u001b[0mopen\u001b[0m\u001b[1;33m(\u001b[0m\u001b[0mdownloadDir\u001b[0m\u001b[1;33m,\u001b[0m \u001b[1;34m\"wb\"\u001b[0m\u001b[1;33m)\u001b[0m \u001b[1;32mas\u001b[0m \u001b[0mf\u001b[0m\u001b[1;33m:\u001b[0m\u001b[1;33m\u001b[0m\u001b[1;33m\u001b[0m\u001b[0m\n\u001b[0m\u001b[0;32m      2\u001b[0m     \u001b[0mf\u001b[0m\u001b[1;33m.\u001b[0m\u001b[0mwrite\u001b[0m\u001b[1;33m(\u001b[0m\u001b[0mresponse\u001b[0m\u001b[1;33m.\u001b[0m\u001b[0mcontent\u001b[0m\u001b[1;33m)\u001b[0m\u001b[1;33m\u001b[0m\u001b[1;33m\u001b[0m\u001b[0m\n",
      "\u001b[1;31mPermissionError\u001b[0m: [Errno 13] Permission denied: 'C:\\\\Users\\\\pallabi.sarmah\\\\Documents\\\\DataScienceProject\\\\Data\\\\VM_E_TempNDR\\\\Table.csv'"
     ]
    }
   ],
   "source": [
    "with open(downloadDir, \"wb\") as f:\n",
    "    f.write(response.content)"
   ]
  },
  {
   "cell_type": "code",
   "execution_count": 91,
   "metadata": {},
   "outputs": [
    {
     "name": "stdout",
     "output_type": "stream",
     "text": [
      "     24 \n",
      "  Sterling Resources\n",
      " 5.6 Biostratigraphy \n",
      "A Separate report has been issued detailing the biostr\n",
      "atigraphic (palynology) analysis carried out on \n",
      "the 42/13-5 and 42/13-5Z wells (\n",
      "Reference 3\n",
      "). Only drill cuttings from t\n",
      "he Carboniferous section of \n",
      "the wells were analysed and a summary of results tabulated below (\n",
      "Table 5.1 \n",
      "& Table 5.2).  Substages \n",
      "Formations \n",
      "Biozones \n",
      "Biostratigraphic \n",
      "Events \n",
      "Depth ft \n",
      "(MDbrt) Error ft Brigantian Middle & Lower \n",
      "Limestone \n",
      "V5b VG V.gobbettii 8520 \n",
      "-80 \n",
      "Lower Limestone \n",
      "V5a \n",
      "MM1 M. margodentata\n",
      " 8740 \n",
      "-60 \n",
      " Table 5.1 Summary of Palynology analysis results in 42/13-5 \n",
      " Substages \n",
      "Formations \n",
      "Biozones \n",
      "Biostratigraphic \n",
      "Events \n",
      "Depth ft \n",
      "(MDbrt) Error ft Brigantian Middle & Lower \n",
      "Limestone \n",
      "V5b VG V.gobbettii 8820 \n",
      "-60 \n",
      " Table 5.2 Summary of Palynology analysis results in 42/13-5Z \n",
      "\n"
     ]
    }
   ],
   "source": [
    "Tables=PyPDF2.PdfFileReader(NewPDFfilename)\n",
    "page24=pdfReader.getPage(23)\n",
    "\n",
    "page24.extractText()\n",
    "print(page24.extractText())"
   ]
  },
  {
   "cell_type": "code",
   "execution_count": null,
   "metadata": {},
   "outputs": [],
   "source": []
  }
 ],
 "metadata": {
  "kernelspec": {
   "display_name": "Python 3",
   "language": "python",
   "name": "python3"
  },
  "language_info": {
   "codemirror_mode": {
    "name": "ipython",
    "version": 3
   },
   "file_extension": ".py",
   "mimetype": "text/x-python",
   "name": "python",
   "nbconvert_exporter": "python",
   "pygments_lexer": "ipython3",
   "version": "3.7.1"
  }
 },
 "nbformat": 4,
 "nbformat_minor": 2
}
